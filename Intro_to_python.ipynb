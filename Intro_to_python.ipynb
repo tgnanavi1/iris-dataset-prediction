{
  "nbformat": 4,
  "nbformat_minor": 0,
  "metadata": {
    "colab": {
      "provenance": [],
      "authorship_tag": "ABX9TyPUWZ++YmNEKLWcvrbddsTI",
      "include_colab_link": true
    },
    "kernelspec": {
      "name": "python3",
      "display_name": "Python 3"
    },
    "language_info": {
      "name": "python"
    }
  },
  "cells": [
    {
      "cell_type": "markdown",
      "metadata": {
        "id": "view-in-github",
        "colab_type": "text"
      },
      "source": [
        "<a href=\"https://colab.research.google.com/github/tgnanavi1/iris-dataset-prediction/blob/main/Intro_to_python.ipynb\" target=\"_parent\"><img src=\"https://colab.research.google.com/assets/colab-badge.svg\" alt=\"Open In Colab\"/></a>"
      ]
    },
    {
      "cell_type": "markdown",
      "source": [
        "#CLASS 1"
      ],
      "metadata": {
        "id": "B5mQgmzWa32T"
      }
    },
    {
      "cell_type": "code",
      "source": [
        "print(\"Gnanavi T\")"
      ],
      "metadata": {
        "colab": {
          "base_uri": "https://localhost:8080/"
        },
        "id": "AEa5sbm4az3D",
        "outputId": "6751c247-c198-447e-da2f-7369518fcf0f"
      },
      "execution_count": 17,
      "outputs": [
        {
          "output_type": "stream",
          "name": "stdout",
          "text": [
            "Gnanavi T\n"
          ]
        }
      ]
    },
    {
      "cell_type": "code",
      "source": [
        "if 20 > 10:\n",
        "  print(\"20 is greater than 10\")"
      ],
      "metadata": {
        "colab": {
          "base_uri": "https://localhost:8080/"
        },
        "id": "71GrjswoVOEW",
        "outputId": "63a3b685-9eb0-490e-c064-b0040f542556"
      },
      "execution_count": 7,
      "outputs": [
        {
          "output_type": "stream",
          "name": "stdout",
          "text": [
            "20 is greater than 10\n"
          ]
        }
      ]
    },
    {
      "cell_type": "code",
      "source": [
        "#creating a variable (is a datacontainer or used to store value)\n",
        "num1 = 1\n",
        "print(type(num1))\n",
        "num2 = 2.555\n",
        "print(type(num2))\n",
        "sum = num1 + num2\n",
        "print(sum)"
      ],
      "metadata": {
        "colab": {
          "base_uri": "https://localhost:8080/"
        },
        "id": "OURkcTi4VZnm",
        "outputId": "d1400973-427e-4a4b-ed3e-d0591be19677"
      },
      "execution_count": 10,
      "outputs": [
        {
          "output_type": "stream",
          "name": "stdout",
          "text": [
            "<class 'int'>\n",
            "<class 'float'>\n",
            "3.555\n"
          ]
        }
      ]
    },
    {
      "cell_type": "code",
      "source": [
        "#create a string\n",
        "name = \"Gnanu\"\n",
        "print(type(name))\n",
        "print(\"My fav name is \"+name) #concatenating (+ or ,) both works in combining 2 strings"
      ],
      "metadata": {
        "colab": {
          "base_uri": "https://localhost:8080/"
        },
        "id": "i_KaZnSSYzxp",
        "outputId": "5e649e32-1223-45ee-ce53-3fe52e75d345"
      },
      "execution_count": 16,
      "outputs": [
        {
          "output_type": "stream",
          "name": "stdout",
          "text": [
            "<class 'str'>\n",
            "My fav name is Gnanu\n"
          ]
        }
      ]
    },
    {
      "cell_type": "code",
      "source": [
        "#Boolean\n",
        "print(10>9)\n",
        "a = True\n",
        "print(a)"
      ],
      "metadata": {
        "colab": {
          "base_uri": "https://localhost:8080/"
        },
        "id": "dbrCY3CZZ0_X",
        "outputId": "c6f47370-50c4-406c-e9cf-89013beba2cc"
      },
      "execution_count": 19,
      "outputs": [
        {
          "output_type": "stream",
          "name": "stdout",
          "text": [
            "True\n",
            "True\n"
          ]
        }
      ]
    },
    {
      "cell_type": "markdown",
      "source": [
        "#CLASS 2"
      ],
      "metadata": {
        "id": "BhXlg7qvcXAE"
      }
    },
    {
      "cell_type": "code",
      "source": [
        "#collection datatypes in python(d/f no.of datatypes can be stored into 1 single variable):\n",
        "#LIST-->Used to store multiple datatypes into a single variable , \n",
        "#datas will be listed in [] sq brackets, it's changable , it allows duplicate values\n",
        "mylist1 = [1,2,3,4,5] #homogeneous\n",
        "mylist = [\"Sept batch\",2022,True,0.666] #heterogeneous have d/f dataset\n",
        "print(mylist)\n",
        "print(mylist1)\n",
        "print(type(mylist))"
      ],
      "metadata": {
        "colab": {
          "base_uri": "https://localhost:8080/"
        },
        "id": "vH3bt9CCbDO5",
        "outputId": "012e753b-a9fc-4b27-f6d7-e6c3fa192dc8"
      },
      "execution_count": 23,
      "outputs": [
        {
          "output_type": "stream",
          "name": "stdout",
          "text": [
            "['Sept batch', 2022, True, 0.666]\n",
            "[1, 2, 3, 4, 5]\n",
            "<class 'list'>\n"
          ]
        }
      ]
    },
    {
      "cell_type": "code",
      "source": [
        "#List are changable , mutable \n",
        "mylist = [\"Sept batch\",2022,True,0.666]\n",
        "#indexing-->is to print individual element\n",
        "#Doing +ve indexing\n",
        "print(mylist[0])\n",
        "print(mylist[1])\n",
        "print(mylist[2])\n",
        "print(mylist[3])"
      ],
      "metadata": {
        "colab": {
          "base_uri": "https://localhost:8080/"
        },
        "id": "1WrHPZ-ll07e",
        "outputId": "85d0e17e-fda7-4180-dd6e-d72cc28a6617"
      },
      "execution_count": 25,
      "outputs": [
        {
          "output_type": "stream",
          "name": "stdout",
          "text": [
            "Sept batch\n",
            "2022\n",
            "True\n",
            "0.666\n"
          ]
        }
      ]
    },
    {
      "cell_type": "code",
      "source": [
        "#Dooing -ve indexing\n",
        "print(mylist[-1])\n",
        "print(mylist[-2])\n",
        "print(mylist[-3])\n",
        "print(mylist[-4])"
      ],
      "metadata": {
        "colab": {
          "base_uri": "https://localhost:8080/"
        },
        "id": "9y5SGUOAqju-",
        "outputId": "2e062d67-59d0-4d45-8c2b-ec1eab1136f5"
      },
      "execution_count": 26,
      "outputs": [
        {
          "output_type": "stream",
          "name": "stdout",
          "text": [
            "0.666\n",
            "True\n",
            "2022\n",
            "Sept batch\n"
          ]
        }
      ]
    },
    {
      "cell_type": "code",
      "source": [
        "#Updating list using indexing\n",
        "mylist = [\"Sept batch\",2022,True,0.666]\n",
        "mylist[1] = 2021\n",
        "print(mylist)\n"
      ],
      "metadata": {
        "colab": {
          "base_uri": "https://localhost:8080/"
        },
        "id": "5cf4P9w7qagM",
        "outputId": "3705dbec-03c2-45b1-b038-80a77df786cb"
      },
      "execution_count": 27,
      "outputs": [
        {
          "output_type": "stream",
          "name": "stdout",
          "text": [
            "['Sept batch', 2021, True, 0.666]\n"
          ]
        }
      ]
    },
    {
      "cell_type": "code",
      "source": [
        "#Appending (adding new data for list on wished index)\n",
        "mylist.insert(3,\"Gnanu\")\n",
        "print(mylist)"
      ],
      "metadata": {
        "colab": {
          "base_uri": "https://localhost:8080/"
        },
        "id": "YVuETDD1rD8L",
        "outputId": "5578ce11-a7cc-4b40-a6b0-091293a02b73"
      },
      "execution_count": 28,
      "outputs": [
        {
          "output_type": "stream",
          "name": "stdout",
          "text": [
            "['Sept batch', 2021, True, 'Gnanu', 0.666]\n"
          ]
        }
      ]
    },
    {
      "cell_type": "code",
      "source": [
        "a = [1,2,3,4,5]\n",
        "b = [6,66,3,7]\n",
        "a.extend(b)\n",
        "print(a)"
      ],
      "metadata": {
        "colab": {
          "base_uri": "https://localhost:8080/"
        },
        "id": "0lt7_zcMshhe",
        "outputId": "7d1938c0-89b3-41b3-f8e3-7fca390b8ba9"
      },
      "execution_count": 29,
      "outputs": [
        {
          "output_type": "stream",
          "name": "stdout",
          "text": [
            "[1, 2, 3, 4, 5, 6, 66, 3, 7]\n"
          ]
        }
      ]
    },
    {
      "cell_type": "code",
      "source": [
        "del mylist[2]\n",
        "print(mylist)\n",
        "mylist.pop(0) #In pop v can delete index no\n",
        "print(mylist)"
      ],
      "metadata": {
        "colab": {
          "base_uri": "https://localhost:8080/"
        },
        "id": "OuNE3oPMtdm5",
        "outputId": "15a412f9-3ffc-45ab-c9b2-9bfab2976b37"
      },
      "execution_count": 32,
      "outputs": [
        {
          "output_type": "stream",
          "name": "stdout",
          "text": [
            "['Sept batch', 2021]\n",
            "[2021]\n"
          ]
        }
      ]
    },
    {
      "cell_type": "code",
      "source": [
        " a = [1,2,3,4,5]\n",
        "a.remove(3) #In remove v can delete values by giving values\n",
        "print(a)"
      ],
      "metadata": {
        "colab": {
          "base_uri": "https://localhost:8080/"
        },
        "id": "EfWlDk5ZETc6",
        "outputId": "e922ce1c-5713-4bcc-f930-ca65476d00d6"
      },
      "execution_count": 34,
      "outputs": [
        {
          "output_type": "stream",
          "name": "stdout",
          "text": [
            "[1, 2, 4, 5]\n"
          ]
        }
      ]
    },
    {
      "cell_type": "code",
      "source": [
        "#Tuple -> It's immutable and it's shown as like this \"{}\" \n",
        "mytuple = {\"HP\",2022,23456,False,2022}\n",
        "print(mytuple)\n",
        "mytuple[0] = 2021\n",
        "print(mytuple)"
      ],
      "metadata": {
        "colab": {
          "base_uri": "https://localhost:8080/",
          "height": 235
        },
        "id": "jD_EIQTzDm3x",
        "outputId": "e1257ef9-a108-4c87-f08f-51e462b570ec"
      },
      "execution_count": 39,
      "outputs": [
        {
          "output_type": "stream",
          "name": "stdout",
          "text": [
            "{'HP', False, 23456, 2022}\n"
          ]
        },
        {
          "output_type": "error",
          "ename": "TypeError",
          "evalue": "ignored",
          "traceback": [
            "\u001b[0;31m---------------------------------------------------------------------------\u001b[0m",
            "\u001b[0;31mTypeError\u001b[0m                                 Traceback (most recent call last)",
            "\u001b[0;32m<ipython-input-39-947d6322bef8>\u001b[0m in \u001b[0;36m<module>\u001b[0;34m\u001b[0m\n\u001b[1;32m      2\u001b[0m \u001b[0mmytuple\u001b[0m \u001b[0;34m=\u001b[0m \u001b[0;34m{\u001b[0m\u001b[0;34m\"HP\"\u001b[0m\u001b[0;34m,\u001b[0m\u001b[0;36m2022\u001b[0m\u001b[0;34m,\u001b[0m\u001b[0;36m23456\u001b[0m\u001b[0;34m,\u001b[0m\u001b[0;32mFalse\u001b[0m\u001b[0;34m,\u001b[0m\u001b[0;36m2022\u001b[0m\u001b[0;34m}\u001b[0m\u001b[0;34m\u001b[0m\u001b[0;34m\u001b[0m\u001b[0m\n\u001b[1;32m      3\u001b[0m \u001b[0mprint\u001b[0m\u001b[0;34m(\u001b[0m\u001b[0mmytuple\u001b[0m\u001b[0;34m)\u001b[0m\u001b[0;34m\u001b[0m\u001b[0;34m\u001b[0m\u001b[0m\n\u001b[0;32m----> 4\u001b[0;31m \u001b[0mmytuple\u001b[0m\u001b[0;34m[\u001b[0m\u001b[0;36m0\u001b[0m\u001b[0;34m]\u001b[0m \u001b[0;34m=\u001b[0m \u001b[0;36m2021\u001b[0m\u001b[0;34m\u001b[0m\u001b[0;34m\u001b[0m\u001b[0m\n\u001b[0m\u001b[1;32m      5\u001b[0m \u001b[0mprint\u001b[0m\u001b[0;34m(\u001b[0m\u001b[0mmytuple\u001b[0m\u001b[0;34m)\u001b[0m\u001b[0;34m\u001b[0m\u001b[0;34m\u001b[0m\u001b[0m\n",
            "\u001b[0;31mTypeError\u001b[0m: 'set' object does not support item assignment"
          ]
        }
      ]
    },
    {
      "cell_type": "code",
      "source": [
        "del mytuple\n",
        "print(mytuple)"
      ],
      "metadata": {
        "colab": {
          "base_uri": "https://localhost:8080/",
          "height": 183
        },
        "id": "6YcIA1QYI83B",
        "outputId": "52399b29-69e8-49cf-ffbc-15a692bc0e00"
      },
      "execution_count": 41,
      "outputs": [
        {
          "output_type": "error",
          "ename": "NameError",
          "evalue": "ignored",
          "traceback": [
            "\u001b[0;31m---------------------------------------------------------------------------\u001b[0m",
            "\u001b[0;31mNameError\u001b[0m                                 Traceback (most recent call last)",
            "\u001b[0;32m<ipython-input-41-130a3e49f4ff>\u001b[0m in \u001b[0;36m<module>\u001b[0;34m\u001b[0m\n\u001b[0;32m----> 1\u001b[0;31m \u001b[0;32mdel\u001b[0m \u001b[0mmytuple\u001b[0m\u001b[0;34m\u001b[0m\u001b[0;34m\u001b[0m\u001b[0m\n\u001b[0m\u001b[1;32m      2\u001b[0m \u001b[0mprint\u001b[0m\u001b[0;34m(\u001b[0m\u001b[0mmytuple\u001b[0m\u001b[0;34m)\u001b[0m\u001b[0;34m\u001b[0m\u001b[0;34m\u001b[0m\u001b[0m\n",
            "\u001b[0;31mNameError\u001b[0m: name 'mytuple' is not defined"
          ]
        }
      ]
    },
    {
      "cell_type": "code",
      "source": [
        "#Dictionary -> Basically consists of key and value , mutable\n",
        "mydic = {\n",
        "    \"Brand\":\"Dell, \" \"HP\",\n",
        "    \"Color\":\"Black\",\n",
        "    \"yearofmake\":2022,\n",
        "    \"Condition\":True\n",
        "         }\n",
        "print(mydic)\n",
        "print(type(mydic))"
      ],
      "metadata": {
        "colab": {
          "base_uri": "https://localhost:8080/"
        },
        "id": "Z4aBJbHyJRkk",
        "outputId": "bf125aaf-ad34-40cd-cb09-28160575b492"
      },
      "execution_count": 52,
      "outputs": [
        {
          "output_type": "stream",
          "name": "stdout",
          "text": [
            "{'Brand': 'Dell, HP', 'Color': 'Black', 'yearofmake': 2022, 'Condition': True}\n",
            "<class 'dict'>\n"
          ]
        }
      ]
    },
    {
      "cell_type": "code",
      "source": [
        "print(mydic[\"Condition\"]) #only with the help of key v can get the value but not reverse"
      ],
      "metadata": {
        "colab": {
          "base_uri": "https://localhost:8080/"
        },
        "id": "a7FqPHRrL5Hv",
        "outputId": "21efc705-4613-48a1-dc22-23ad81b10eed"
      },
      "execution_count": 44,
      "outputs": [
        {
          "output_type": "stream",
          "name": "stdout",
          "text": [
            "True\n"
          ]
        }
      ]
    },
    {
      "cell_type": "code",
      "source": [
        "a = {\n",
        "    \"Brand\":[\"Dell\",\"HP\"],\n",
        "    \"Color\":\"Black\",\n",
        "    \"yearofmake\":2022,\n",
        "    \"Condition\":True\n",
        "         }\n",
        "print(a)\n",
        "print(type(a))"
      ],
      "metadata": {
        "colab": {
          "base_uri": "https://localhost:8080/"
        },
        "id": "ZLbUlMEwOhuK",
        "outputId": "80f686ef-1a0e-416b-cd03-549a447e87b6"
      },
      "execution_count": 58,
      "outputs": [
        {
          "output_type": "stream",
          "name": "stdout",
          "text": [
            "{'Brand': ['Dell', 'HP'], 'Color': 'Black', 'yearofmake': 2022, 'Condition': True}\n",
            "<class 'dict'>\n"
          ]
        }
      ]
    },
    {
      "cell_type": "code",
      "source": [
        "print(a[\"Brand\"][1])"
      ],
      "metadata": {
        "colab": {
          "base_uri": "https://localhost:8080/"
        },
        "id": "3-4uyXN-O181",
        "outputId": "753bd18e-f6d1-49b3-ee0a-f33cbcd4da76"
      },
      "execution_count": 59,
      "outputs": [
        {
          "output_type": "stream",
          "name": "stdout",
          "text": [
            "HP\n"
          ]
        }
      ]
    },
    {
      "cell_type": "code",
      "source": [
        "#For updates\n",
        "a[\"Condition\"] = False\n",
        "print(a)"
      ],
      "metadata": {
        "colab": {
          "base_uri": "https://localhost:8080/"
        },
        "id": "pGYMg2bWPWAD",
        "outputId": "868a4de5-58f9-4c8d-99d9-6c750a4690bd"
      },
      "execution_count": 60,
      "outputs": [
        {
          "output_type": "stream",
          "name": "stdout",
          "text": [
            "{'Brand': ['Dell', 'HP'], 'Color': 'Black', 'yearofmake': 2022, 'Condition': False}\n"
          ]
        }
      ]
    },
    {
      "cell_type": "code",
      "source": [
        "a.append(2,\"Date\")\n",
        "print(a)"
      ],
      "metadata": {
        "colab": {
          "base_uri": "https://localhost:8080/",
          "height": 183
        },
        "id": "DPFhBgcdPuMU",
        "outputId": "5bdb8e5c-bab4-4f68-a2c0-84513ed56db8"
      },
      "execution_count": 62,
      "outputs": [
        {
          "output_type": "error",
          "ename": "AttributeError",
          "evalue": "ignored",
          "traceback": [
            "\u001b[0;31m---------------------------------------------------------------------------\u001b[0m",
            "\u001b[0;31mAttributeError\u001b[0m                            Traceback (most recent call last)",
            "\u001b[0;32m<ipython-input-62-9f978a7a4db5>\u001b[0m in \u001b[0;36m<module>\u001b[0;34m\u001b[0m\n\u001b[0;32m----> 1\u001b[0;31m \u001b[0ma\u001b[0m\u001b[0;34m.\u001b[0m\u001b[0mappend\u001b[0m\u001b[0;34m(\u001b[0m\u001b[0;36m2\u001b[0m\u001b[0;34m,\u001b[0m\u001b[0;34m\"Date\"\u001b[0m\u001b[0;34m)\u001b[0m\u001b[0;34m\u001b[0m\u001b[0;34m\u001b[0m\u001b[0m\n\u001b[0m\u001b[1;32m      2\u001b[0m \u001b[0mprint\u001b[0m\u001b[0;34m(\u001b[0m\u001b[0ma\u001b[0m\u001b[0;34m)\u001b[0m\u001b[0;34m\u001b[0m\u001b[0;34m\u001b[0m\u001b[0m\n",
            "\u001b[0;31mAttributeError\u001b[0m: 'dict' object has no attribute 'append'"
          ]
        }
      ]
    },
    {
      "cell_type": "code",
      "source": [],
      "metadata": {
        "id": "GOguuPTeQK-H"
      },
      "execution_count": null,
      "outputs": []
    },
    {
      "cell_type": "markdown",
      "source": [
        "#CLASS 3"
      ],
      "metadata": {
        "id": "EMy0xI4HQYQX"
      }
    },
    {
      "cell_type": "code",
      "source": [
        "#Set -> Aunordered collection of datatypes , contain no duplicates , symbole is this \"{}\"\n",
        "#we cannot have duplicates\n",
        "myset = {\"Yesterday\",\"Today\",\"Tomorrow\",1,2,2,True}\n",
        "print(myset)"
      ],
      "metadata": {
        "colab": {
          "base_uri": "https://localhost:8080/"
        },
        "id": "49SMPpc2QZ2P",
        "outputId": "e3ed250f-5ed3-4ebe-9e8f-4a4e321c0b41"
      },
      "execution_count": 63,
      "outputs": [
        {
          "output_type": "stream",
          "name": "stdout",
          "text": [
            "{1, 2, 'Yesterday', 'Tomorrow', 'Today'}\n"
          ]
        }
      ]
    },
    {
      "cell_type": "code",
      "source": [
        "set1 = {\"A\",\"B\",2}\n",
        "set2 = {\"C\",\"D\",2.0}\n",
        "set4 = {True,2.22,2}\n",
        "set3 = set2|(set1|set4) #union or symbol\"|\" which is called pipeline combines datas in set\n",
        "print(set3)"
      ],
      "metadata": {
        "colab": {
          "base_uri": "https://localhost:8080/"
        },
        "id": "lbKAI5J-SKTr",
        "outputId": "5ea4ab33-125a-400c-c009-af36b5ecb771"
      },
      "execution_count": 79,
      "outputs": [
        {
          "output_type": "stream",
          "name": "stdout",
          "text": [
            "{True, 2.0, 2.22, 'B', 'A', 'D', 'C'}\n"
          ]
        }
      ]
    },
    {
      "cell_type": "code",
      "source": [
        "#Intersection -> printing of commen elements\n",
        "set5 = set2&set4&set1\n",
        "print(set5)"
      ],
      "metadata": {
        "colab": {
          "base_uri": "https://localhost:8080/"
        },
        "id": "P_O__lbhUiPN",
        "outputId": "a0a30d70-34bd-42d9-de84-21457a0827a6"
      },
      "execution_count": 77,
      "outputs": [
        {
          "output_type": "stream",
          "name": "stdout",
          "text": [
            "{2}\n"
          ]
        }
      ]
    },
    {
      "cell_type": "code",
      "source": [
        "set3.clear()\n",
        "print(set3)"
      ],
      "metadata": {
        "colab": {
          "base_uri": "https://localhost:8080/"
        },
        "id": "UWh7S3odWlhm",
        "outputId": "2e538ec6-9d62-473c-a50d-c4d8d1355ec9"
      },
      "execution_count": 78,
      "outputs": [
        {
          "output_type": "stream",
          "name": "stdout",
          "text": [
            "set()\n"
          ]
        }
      ]
    },
    {
      "cell_type": "code",
      "source": [
        "#Function -> Excecute a set of code whenever it is called\n",
        "def GroupA():\n",
        "  print(\"Hello all\")\n",
        "  print(\"Task is cmpltd\")\n",
        "GroupA()"
      ],
      "metadata": {
        "colab": {
          "base_uri": "https://localhost:8080/"
        },
        "id": "em1DOmsiZqGC",
        "outputId": "2c6050fb-b45b-4d2a-8c51-66a93015aab2"
      },
      "execution_count": 81,
      "outputs": [
        {
          "output_type": "stream",
          "name": "stdout",
          "text": [
            "Hello all\n",
            "Task is cmpltd\n"
          ]
        }
      ]
    },
    {
      "cell_type": "code",
      "source": [
        "def add(num1,num2):\n",
        "  print(\"The sum of two numbers are\",(num1-num2))\n",
        "add(5,3)\n",
        "add(3,5.5)"
      ],
      "metadata": {
        "colab": {
          "base_uri": "https://localhost:8080/"
        },
        "id": "vzWK6RGudfzF",
        "outputId": "b3856366-356d-4ee7-deb4-b23d12ac4d50"
      },
      "execution_count": 87,
      "outputs": [
        {
          "output_type": "stream",
          "name": "stdout",
          "text": [
            "The sum of two numbers are 2\n",
            "The sum of two numbers are -2.5\n"
          ]
        }
      ]
    },
    {
      "cell_type": "code",
      "source": [
        "def Data(name):\n",
        "  print(\"The given data belongs to\",name)\n",
        "Data(\"Tom\")"
      ],
      "metadata": {
        "colab": {
          "base_uri": "https://localhost:8080/"
        },
        "id": "Hi__TuUMeVzi",
        "outputId": "4b101f44-b016-4329-84a3-d3d2c72f648e"
      },
      "execution_count": 86,
      "outputs": [
        {
          "output_type": "stream",
          "name": "stdout",
          "text": [
            "The given data belongs to Tom\n"
          ]
        }
      ]
    },
    {
      "cell_type": "code",
      "source": [
        "def a(): #using prompt\n",
        "  x = input(\"Enter the name\")\n",
        "  print(\"Hi\",x)\n",
        "a()"
      ],
      "metadata": {
        "colab": {
          "base_uri": "https://localhost:8080/"
        },
        "id": "n1hcXTYEey86",
        "outputId": "97641806-72e3-4b9d-a860-6dfbec37de63"
      },
      "execution_count": 88,
      "outputs": [
        {
          "output_type": "stream",
          "name": "stdout",
          "text": [
            "Enter the name Gnanu\n",
            "Hi  Gnanu\n"
          ]
        }
      ]
    },
    {
      "cell_type": "code",
      "source": [],
      "metadata": {
        "id": "srZDNcFZfRMI"
      },
      "execution_count": null,
      "outputs": []
    }
  ]
}