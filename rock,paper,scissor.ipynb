{
  "nbformat": 4,
  "nbformat_minor": 0,
  "metadata": {
    "colab": {
      "provenance": [],
      "authorship_tag": "ABX9TyNUF1vB6eGSvST6q98Y+Z1p",
      "include_colab_link": true
    },
    "kernelspec": {
      "name": "python3",
      "display_name": "Python 3"
    },
    "language_info": {
      "name": "python"
    }
  },
  "cells": [
    {
      "cell_type": "markdown",
      "metadata": {
        "id": "view-in-github",
        "colab_type": "text"
      },
      "source": [
        "<a href=\"https://colab.research.google.com/github/tgnanavi1/iris-dataset-prediction/blob/main/rock%2Cpaper%2Cscissor.ipynb\" target=\"_parent\"><img src=\"https://colab.research.google.com/assets/colab-badge.svg\" alt=\"Open In Colab\"/></a>"
      ]
    },
    {
      "cell_type": "code",
      "execution_count": 1,
      "metadata": {
        "colab": {
          "base_uri": "https://localhost:8080/"
        },
        "id": "fOO_YIxsqzwP",
        "outputId": "e0c809ac-d2bc-42da-c40e-2bccb33b4e5e"
      },
      "outputs": [
        {
          "output_type": "stream",
          "name": "stdout",
          "text": [
            "Select Rock, Paper, or Scissor :PAPER\n",
            "Player 2 selected:  rock\n",
            "Player 1 Won\n"
          ]
        }
      ],
      "source": [
        "import random\n",
        "\n",
        "player1 = input(\"Select Rock, Paper, or Scissor :\").lower()\n",
        "player2 = random.choice([\"Rock\", \"Paper\", \"Scissor\"]).lower()\n",
        "print(\"Player 2 selected: \", player2)\n",
        "\n",
        "if player1 == \"rock\" and player2 == \"paper\":\n",
        "    print(\"Player 2 Won\")\n",
        "elif player1 == \"paper\" and player2 == \"scissor\":\n",
        "    print(\"Player 2 Won\")\n",
        "elif player1 == \"scissor\" and player2 == \"rock\":\n",
        "    print(\"Player 2 Won\")\n",
        "elif player1 == player2:\n",
        "    print(\"Tie\")\n",
        "else:\n",
        "    print(\"Player 1 Won\")"
      ]
    }
  ]
}