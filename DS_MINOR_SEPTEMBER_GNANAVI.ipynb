{
  "nbformat": 4,
  "nbformat_minor": 0,
  "metadata": {
    "colab": {
      "provenance": [],
      "authorship_tag": "ABX9TyO7PFzaOh/HsTmXuJY8n4c2",
      "include_colab_link": true
    },
    "kernelspec": {
      "name": "python3",
      "display_name": "Python 3"
    },
    "language_info": {
      "name": "python"
    }
  },
  "cells": [
    {
      "cell_type": "markdown",
      "metadata": {
        "id": "view-in-github",
        "colab_type": "text"
      },
      "source": [
        "<a href=\"https://colab.research.google.com/github/tgnanavi1/iris-dataset-prediction/blob/main/DS_MINOR_SEPTEMBER_GNANAVI.ipynb\" target=\"_parent\"><img src=\"https://colab.research.google.com/assets/colab-badge.svg\" alt=\"Open In Colab\"/></a>"
      ]
    },
    {
      "cell_type": "markdown",
      "source": [
        "**GNANAVI.T**"
      ],
      "metadata": {
        "id": "RP35-Kak8Agv"
      }
    },
    {
      "cell_type": "markdown",
      "source": [
        "**Create A Countdown Timer Using Python**\n",
        "\n",
        "**Features To Include\n",
        "Reset/ Stop\n",
        "Pause /Resume** "
      ],
      "metadata": {
        "id": "ESnc3Tn08F82"
      }
    },
    {
      "cell_type": "markdown",
      "source": [
        "##Import the modules"
      ],
      "metadata": {
        "id": "euSu-G7f8v6w"
      }
    },
    {
      "cell_type": "code",
      "source": [
        "##Import the time module\n",
        "import time\n",
        "from tkinter import *\n",
        "import multiprocessing\n",
        "from tkinter import ttk, messagebox\n",
        "from threading import *"
      ],
      "metadata": {
        "id": "ctlJD1HY8zsl"
      },
      "execution_count": 1,
      "outputs": []
    },
    {
      "cell_type": "markdown",
      "source": [
        "##Declare the lists of hours and minutes"
      ],
      "metadata": {
        "id": "d46SkuGU9Az7"
      }
    },
    {
      "cell_type": "code",
      "source": [
        "# Hour list\n",
        "hour_list = [0, 1, 2, 3, 4, 5, 6, 7, 8, 9, 10, 11, 12, 13, 14, \n",
        "15, 16, 17, 18, 19, 20, 21, 22, 23, 24]\n",
        "\n",
        "# Minute List\n",
        "min_sec_list = [0, 1, 2, 3, 4, 5, 6, 7, 8, 9, 10, 11, 12, 13, 14, \n",
        "15, 16, 17, 18, 19, 20, 21, 22, 23, 24, 25, 26, 27, 28, 29, \n",
        "30, 31, 32, 33, 34, 35, 36, 37, 38, 39, 40, 41, 42, 43, 44,\n",
        "45, 46, 47, 48, 49, 50, 51, 52, 53, 54, 55, 56, 57, 58, 59,]"
      ],
      "metadata": {
        "id": "qFo4J_B49CM-"
      },
      "execution_count": 2,
      "outputs": []
    },
    {
      "cell_type": "markdown",
      "source": [
        "##Declare the 'CountDown' class"
      ],
      "metadata": {
        "id": "dnIfmNp99KAe"
      }
    },
    {
      "cell_type": "code",
      "source": [
        "# Creating a CounDown Class\n",
        "class CountDown:\n",
        "    def __init__(self, root):\n",
        "        self.window = root\n",
        "        self.window.geometry(\"480x320+0+0\")\n",
        "        self.window.title('CountDown Timer')\n",
        "        # Tkinter window background color\n",
        "        self.window.configure(bg='gray35')\n",
        "        # Fixing the Window length constant\n",
        "        self.window.resizable(width = False, height = False)\n",
        "\n",
        "        # Declaring a variable to pause the countdown time\n",
        "        self.pause = False\n",
        "\n",
        "        # The Start and Pause buttons are placed\n",
        "        # inside this frame\n",
        "        self.button_frame = Frame(self.window, bg=\"gray35\", \\\n",
        "        width=240, height=40)\n",
        "        self.button_frame.place(x=230, y=150)\n",
        "        # This frame is used to show the countdown time label\n",
        "        self.time_frame = Frame(self.window, bg=\"gray35\", \\\n",
        "        width=480, height=120).place(x=0, y=210)\n",
        "\n",
        "        # Tkinter Labels\n",
        "        time_label = Label(self.window, text=\"Set Time\", \n",
        "        font=(\"times new roman\",20, \"bold\"), bg='gray35',fg='yellow')\n",
        "        time_label.place(x=180, y=30)\n",
        "\n",
        "        hour_label = Label(self.window, text=\"Hour\", \n",
        "        font=(\"times new roman\",15), bg='gray35', fg='white')\n",
        "        hour_label.place(x=50, y=70)\n",
        "\n",
        "        minute_label = Label(self.window, text=\"Minute\", \n",
        "        font=(\"times new roman\",15), bg='gray35', fg='white')\n",
        "        minute_label.place(x=200, y=70)\n",
        "\n",
        "        second_label = Label(self.window, text=\"Second\", \n",
        "        font=(\"times new roman\",15), bg='gray35', fg='white')\n",
        "        second_label.place(x=350, y=70)\n",
        "        # ===========================================\n",
        "\n",
        "        # Tkinter Comboboxes\n",
        "        # Combobox for hours\n",
        "        self.hour = IntVar()\n",
        "        self.hour_combobox = ttk.Combobox(self.window, width=8, \n",
        "        height=10, textvariable=self.hour, \n",
        "        font=(\"times new roman\",15))\n",
        "        self.hour_combobox['values'] = hour_list\n",
        "        self.hour_combobox.current(0)\n",
        "        self.hour_combobox.place(x=50,y=110)\n",
        "\n",
        "        # Combobox for minutes\n",
        "        self.minute = IntVar()\n",
        "        self.minute_combobox = ttk.Combobox(self.window, width=8, \n",
        "        height=10, textvariable=self.minute, \n",
        "        font=(\"times new roman\",15))\n",
        "        self.minute_combobox['values'] = min_sec_list\n",
        "        self.minute_combobox.current(0)\n",
        "        self.minute_combobox.place(x=200,y=110)\n",
        "\n",
        "        # Combobox for seconds\n",
        "        self.second = IntVar()\n",
        "        self.second_combobox = ttk.Combobox(self.window, width=8, \n",
        "        height=10, textvariable=self.second, \n",
        "        font=(\"times new roman\",15))\n",
        "        self.second_combobox['values'] = min_sec_list\n",
        "        self.second_combobox.current(0)\n",
        "        self.second_combobox.place(x=350,y=110)\n",
        "        # ===========================================\n",
        "\n",
        "        # Tkinter Buttons\n",
        "        # Cancel button\n",
        "        cancel_button = Button(self.window, text='Cancel', \n",
        "        font=('Helvetica',12), bg=\"white\", fg=\"black\", \n",
        "        command=self.Cancel)\n",
        "        cancel_button.place(x=70, y=150)\n",
        "\n",
        "        # Set Time Button\n",
        "        # When the user will press this button\n",
        "        # the 'Start' and 'Pause' button will\n",
        "        # show inside the 'self.button_frame' frame\n",
        "        set_button = Button(self.window, text='Set', \n",
        "        font=('Helvetica',12), bg=\"white\", fg=\"black\", \n",
        "        command=self.Get_Time)\n",
        "        set_button.place(x=160, y=150)"
      ],
      "metadata": {
        "id": "6uNRES4Y9NMl"
      },
      "execution_count": 3,
      "outputs": []
    },
    {
      "cell_type": "markdown",
      "source": [
        "##The Cancel function"
      ],
      "metadata": {
        "id": "4umbbQDt9fFb"
      }
    },
    {
      "cell_type": "code",
      "source": [
        "# It will destroy the window\n",
        "def  Cancel(self):\n",
        "        self.pause = True\n",
        "        self.window.destroy()"
      ],
      "metadata": {
        "id": "tnL2jToX9iWc"
      },
      "execution_count": 4,
      "outputs": []
    },
    {
      "cell_type": "markdown",
      "source": [
        "##Get the time from the user\n",
        "\n"
      ],
      "metadata": {
        "id": "FcuirQon9moQ"
      }
    },
    {
      "cell_type": "code",
      "source": [
        "# When the set button is pressed, this\n",
        "    # function gets called\n",
        "def Get_Time(self):\n",
        "        self.time_display = Label(self.time_frame, \n",
        "        font=('Helvetica', 20 , \"bold\"), \n",
        "        bg = 'gray35', fg = 'yellow')\n",
        "        self.time_display.place(x=130, y=210)\n",
        "\n",
        "        try:\n",
        "            # Total amount of time in seconds\n",
        "            h = (int(self.hour_combobox.get())*3600)\n",
        "            m = (int(self.minute_combobox.get())*60)\n",
        "            s = (int(self.second_combobox.get()))\n",
        "            self.time_left = h + m + s\n",
        "\n",
        "            # If the user try to set the default time(0:0:0) then\n",
        "            # a warning message will display\n",
        "            if s == 0 and m == 0 and h == 0:\n",
        "                messagebox.showwarning('Warning!',\\\n",
        "                'Please select a right time to set')\n",
        "            else:\n",
        "                # Start Button\n",
        "                start_button = Button(self.button_frame, text='Start', \n",
        "                font=('Helvetica',12), bg=\"green\", fg=\"white\", \n",
        "                command=self.Threading)\n",
        "                start_button.place(x=20, y=0)\n",
        "\n",
        "                # Pause Button\n",
        "                pause_button = Button(self.button_frame, text='Pause', \n",
        "                font=('Helvetica',12), bg=\"red\", fg=\"white\",\n",
        "                command=self.pause_time)\n",
        "                pause_button.place(x=100, y=0)\n",
        "        except Exception as es:\n",
        "            messagebox.showerror(\"Error!\", \\\n",
        "            f\"Error due to {es}\")"
      ],
      "metadata": {
        "id": "hursQb-09lcX"
      },
      "execution_count": 5,
      "outputs": []
    },
    {
      "cell_type": "markdown",
      "source": [
        "##Creating an another Thread Now create an another Thread for handling these tasks:\n",
        "\n",
        "##1. Showing the Remaining time\n",
        "\n",
        "##2. Handling Start and Pause function perfectly.\n",
        "\n",
        "##It will help to running the CountDown Timer Smoothly"
      ],
      "metadata": {
        "id": "5NY8UmbP90Ys"
      }
    },
    {
      "cell_type": "code",
      "source": [
        "# Creating a thread to run the show_time function\n",
        "def Threading(self):\n",
        "        # Killing a thread through \"daemon=True\" isn't a good idea\n",
        "        self.x = Thread(target=self.start_time, daemon=True)\n",
        "        self.x.start()"
      ],
      "metadata": {
        "id": "xXJAY6Le9-YT"
      },
      "execution_count": 6,
      "outputs": []
    },
    {
      "cell_type": "markdown",
      "source": [
        "##Clear Screen\n",
        "##Look at the 'CountDown' class (yellow lines); I've added a frame named 'button_frame' there for the Start and Pause buttons. When this function gets called, it simply clears all the widgets (only Start and Pause buttons) present there."
      ],
      "metadata": {
        "id": "ia4RVdmm-D14"
      }
    },
    {
      "cell_type": "code",
      "source": [
        "# It wil clear all the widgets inside the\n",
        "# 'self.button_frame' frame(Start and Pause buttons)\n",
        "def Clear_Screen(self):\n",
        "        for widget in self.button_frame.winfo_children():\n",
        "            widget.destroy()"
      ],
      "metadata": {
        "id": "71A8wVL7-JjS"
      },
      "execution_count": 8,
      "outputs": []
    },
    {
      "cell_type": "markdown",
      "source": [
        "##The Start function"
      ],
      "metadata": {
        "id": "qTVB1nVn-az6"
      }
    },
    {
      "cell_type": "code",
      "source": [
        "# When the Start button will be pressed then,\n",
        "    # this \"show_time\" function will get called.\n",
        "def start_time(self):\n",
        "        self.pause = False\n",
        "        while self.time_left > 0:\n",
        "            mins, secs = divmod(self.time_left, 60)\n",
        "\n",
        "            hours = 0\n",
        "            if mins > 60:\n",
        "                # hour minute\n",
        "                hours, mins = divmod(mins, 60)"
      ],
      "metadata": {
        "id": "Lo8vs2Vp-h3D"
      },
      "execution_count": 9,
      "outputs": []
    },
    {
      "cell_type": "markdown",
      "source": [
        "##The Pause function"
      ],
      "metadata": {
        "id": "XEK76g32-m2N"
      }
    },
    {
      "cell_type": "code",
      "source": [
        "def pause_time(self):\n",
        "        self.pause = True\n",
        "\n",
        "        mins, secs = divmod(self.time_left, 60)\n",
        "        hours = 0\n",
        "        if mins > 60:\n",
        "            # hour minute\n",
        "            hours, mins = divmod(mins, 60)\n",
        "\n",
        "        self.time_display.config(text=f\"Time Left: {hours}: {mins}: {secs}\")\n",
        "        self.time_display.update()"
      ],
      "metadata": {
        "id": "fnmcHhZZ-qfk"
      },
      "execution_count": 10,
      "outputs": []
    },
    {
      "cell_type": "markdown",
      "source": [
        "Colab link :- https://colab.research.google.com/drive/1829CtNJsZtRv3ulfrf9dw65qGQVYZ-4d?usp=sharing"
      ],
      "metadata": {
        "id": "-nRsiViJ_ENB"
      }
    }
  ]
}